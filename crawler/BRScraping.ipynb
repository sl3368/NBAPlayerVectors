{
 "cells": [
  {
   "cell_type": "code",
   "execution_count": 1,
   "metadata": {
    "collapsed": true
   },
   "outputs": [],
   "source": [
    "from BRHelper import player_info,extractData\n",
    "import time\n",
    "import numpy as np\n",
    "from bs4 import BeautifulSoup\n",
    "import requests\n",
    "from lxml import html\n",
    "import cPickle,os"
   ]
  },
  {
   "cell_type": "code",
   "execution_count": 2,
   "metadata": {
    "collapsed": false
   },
   "outputs": [
    {
     "name": "stdout",
     "output_type": "stream",
     "text": [
      "(1655, 9)\n"
     ]
    },
    {
     "name": "stderr",
     "output_type": "stream",
     "text": [
      "/anaconda/lib/python2.7/site-packages/ipykernel/__main__.py:7: SettingWithCopyWarning: \n",
      "A value is trying to be set on a copy of a slice from a DataFrame.\n",
      "Try using .loc[row_indexer,col_indexer] = value instead\n",
      "\n",
      "See the caveats in the documentation: http://pandas.pydata.org/pandas-docs/stable/indexing.html#indexing-view-versus-copy\n"
     ]
    }
   ],
   "source": [
    "players_general_info = player_info() # call function that scrapes general info\n",
    "validPlayersGeneralInfo = players_general_info[(players_general_info.active_to>1976) & \n",
    "                     ((players_general_info.active_to-players_general_info.active_from)>3)]\n",
    "\n",
    "print validPlayersGeneralInfo.shape\n",
    "\n",
    "validPlayersGeneralInfo['filename'] = validPlayersGeneralInfo.name.str.replace(' ','_')"
   ]
  },
  {
   "cell_type": "code",
   "execution_count": 4,
   "metadata": {
    "collapsed": false
   },
   "outputs": [
    {
     "name": "stdout",
     "output_type": "stream",
     "text": [
      "1620\n",
      "/players/b/bareajo01.html J.J._Barea\n",
      "/players/c/capelca01.html Clint_Capela\n",
      "/players/c/covinro01.html Robert_Covington\n",
      "/players/c/crabbal01.html Allen_Crabbe\n",
      "/players/d/dragigo01.html Goran_Dragic\n",
      "/players/d/dudleja01.html Jared_Dudley\n",
      "/players/e/exumda01.html Dante_Exum\n",
      "/players/h/hensojo01.html John_Henson\n",
      "/players/h/howardw01.html Dwight_Howard\n",
      "/players/j/jordami01.html Michael_Jordan\n",
      "/players/l/loveke01.html Kevin_Love\n",
      "/players/m/mbahalu01.html Luc_Mbah_a_Moute\n",
      "/players/m/morrima02.html Markieff_Morris\n",
      "/players/m/mozgoti01.html Timofey_Mozgov\n",
      "/players/p/plumlmi01.html Miles_Plumlee\n",
      "/players/r/roberan03.html Andre_Roberson\n",
      "/players/r/rosede01.html Derrick_Rose\n",
      "/players/s/sefolth01.html Thabo_Sefolosha\n",
      "/players/t/thomais02.html Isaiah_Thomas\n",
      "/players/v/valanjo01.html Jonas_Valanciunas\n",
      "/players/w/walljo01.html John_Wall\n"
     ]
    }
   ],
   "source": [
    "playerDirectory = 'BRData/'\n",
    "print len(os.listdir(playerDirectory))\n",
    "\n",
    "BRData = {}\n",
    "ErrorPlayers = []\n",
    "\n",
    "for player_idx in range(validPlayersGeneralInfo.shape[0]):\n",
    "    player_url = validPlayersGeneralInfo.url.values.tolist()[player_idx]\n",
    "    player_fn = validPlayersGeneralInfo.filename.values.tolist()[player_idx]\n",
    "    savedPlayers = os.listdir(playerDirectory)\n",
    "    if player_fn not in savedPlayers:\n",
    "        page_request = requests.get('http://www.basketball-reference.com' + player_url)\n",
    "        soup = BeautifulSoup(page_request.text,\"lxml\")\n",
    "        try:\n",
    "            playerData = extractData(soup)\n",
    "            f = open(playerDirectory+player_fn,'wb')\n",
    "            cPickle.dump(playerData,f,protocol=cPickle.HIGHEST_PROTOCOL)\n",
    "            f.close()\n",
    "            #BRData[player_url] = playerData\n",
    "        except:\n",
    "            print player_url,player_fn\n",
    "            ErrorPlayers.append((player_url,player_idx))\n",
    "        time.sleep(np.random.randint(10,20))\n",
    "    \n",
    "    if (len(savedPlayers)+1)%100==0:\n",
    "        #save\n",
    "#         f=open('BRSet.data','wb')\n",
    "#         cPickle.dump((BRData,ErrorPlayers),f,protocol=cPickle.HIGHEST_PROTOCOL)\n",
    "#         f.close()\n",
    "        print (len(savedPlayers)+1)"
   ]
  },
  {
   "cell_type": "code",
   "execution_count": null,
   "metadata": {
    "collapsed": false
   },
   "outputs": [],
   "source": [
    "print len(BRData.keys()),ErrorPlayers"
   ]
  }
 ],
 "metadata": {
  "kernelspec": {
   "display_name": "Python 2",
   "language": "python",
   "name": "python2"
  },
  "language_info": {
   "codemirror_mode": {
    "name": "ipython",
    "version": 2
   },
   "file_extension": ".py",
   "mimetype": "text/x-python",
   "name": "python",
   "nbconvert_exporter": "python",
   "pygments_lexer": "ipython2",
   "version": "2.7.13"
  }
 },
 "nbformat": 4,
 "nbformat_minor": 2
}
