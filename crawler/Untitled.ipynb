{
 "cells": [
  {
   "cell_type": "code",
   "execution_count": 212,
   "metadata": {
    "collapsed": true
   },
   "outputs": [],
   "source": [
    "import urllib2\n",
    "from bs4 import BeautifulSoup\n",
    "import bs4,time\n",
    "import string\n",
    "import xml.etree.ElementTree as ET\n",
    "import pandas as pd\n",
    "import numpy as np\n",
    "import requests\n",
    "from lxml import html"
   ]
  },
  {
   "cell_type": "code",
   "execution_count": 96,
   "metadata": {
    "collapsed": true
   },
   "outputs": [],
   "source": [
    "url = 'https://www.basketball-reference.com/teams/CHI/1987.html'\n",
    "page = urllib2.urlopen(url)"
   ]
  },
  {
   "cell_type": "code",
   "execution_count": 97,
   "metadata": {
    "collapsed": true
   },
   "outputs": [],
   "source": [
    "soup = BeautifulSoup(page,'html5lib')"
   ]
  },
  {
   "cell_type": "code",
   "execution_count": 99,
   "metadata": {
    "collapsed": false
   },
   "outputs": [
    {
     "data": {
      "text/plain": [
       "True"
      ]
     },
     "execution_count": 99,
     "metadata": {},
     "output_type": "execute_result"
    }
   ],
   "source": [
    "type(soup.body.div.contents[0])==bs4.element.NavigableString"
   ]
  },
  {
   "cell_type": "code",
   "execution_count": 100,
   "metadata": {
    "collapsed": false
   },
   "outputs": [
    {
     "data": {
      "text/plain": [
       "bs4.element.Tag"
      ]
     },
     "execution_count": 100,
     "metadata": {},
     "output_type": "execute_result"
    }
   ],
   "source": [
    "type(soup.body.div.contents[1])"
   ]
  },
  {
   "cell_type": "code",
   "execution_count": 101,
   "metadata": {
    "collapsed": false
   },
   "outputs": [
    {
     "name": "stdout",
     "output_type": "stream",
     "text": [
      "header 1\n",
      "info 4\n",
      "srcom 6\n",
      "inner_nav 9\n",
      "content 12\n",
      "footer 15\n"
     ]
    }
   ],
   "source": [
    "for n,i in enumerate(soup.body.div.children):\n",
    "    if type(i)==bs4.element.Tag:\n",
    "        print i['id'],n"
   ]
  },
  {
   "cell_type": "code",
   "execution_count": 102,
   "metadata": {
    "collapsed": false
   },
   "outputs": [
    {
     "name": "stdout",
     "output_type": "stream",
     "text": [
      "timeline_results 3\n",
      "all_roster 5\n",
      "all_assistant_coaches 11\n",
      "all_team_and_opponent 13\n",
      "all_team_misc 19\n",
      "all_per_game 21\n",
      "all_totals 23\n",
      "all_per_minute 25\n",
      "all_per_poss 27\n",
      "all_advanced 29\n",
      "all_playoffs_totals 31\n",
      "all_playoffs_per_game 33\n",
      "all_playoffs_per_minute 35\n",
      "all_playoffs_per_poss 37\n",
      "all_playoffs_advanced 39\n",
      "bottom_nav 45\n"
     ]
    }
   ],
   "source": [
    "for n,i in enumerate(soup.body.div.contents[12].children):\n",
    "    if type(i)==bs4.element.Tag:\n",
    "        if 'id' in i.attrs:\n",
    "            print i['id'],n"
   ]
  },
  {
   "cell_type": "code",
   "execution_count": 128,
   "metadata": {
    "collapsed": false
   },
   "outputs": [
    {
     "name": "stdout",
     "output_type": "stream",
     "text": [
      "<class 'bs4.element.NavigableString'> 0\n",
      "<class 'bs4.element.Tag'> 1\n",
      "<class 'bs4.element.NavigableString'> 2\n",
      "<class 'bs4.element.Tag'> 3\n",
      "<class 'bs4.element.NavigableString'> 4\n",
      "<class 'bs4.element.Comment'> 5\n",
      "<class 'bs4.element.NavigableString'> 6\n"
     ]
    }
   ],
   "source": [
    "for n,i in enumerate(soup.body.div.contents[12].contents[39].children):\n",
    "    print type(i),n"
   ]
  },
  {
   "cell_type": "code",
   "execution_count": 110,
   "metadata": {
    "collapsed": true
   },
   "outputs": [],
   "source": [
    "page = requests.get(url)"
   ]
  },
  {
   "cell_type": "code",
   "execution_count": 111,
   "metadata": {
    "collapsed": true
   },
   "outputs": [],
   "source": [
    "tree = html.fromstring(page.content)"
   ]
  },
  {
   "cell_type": "code",
   "execution_count": 161,
   "metadata": {
    "collapsed": true
   },
   "outputs": [],
   "source": [
    "def player_info():\n",
    "    '''\n",
    "    This function web scrapes basketball-reference and extracts player's info.\n",
    "    '''\n",
    "    players = []\n",
    "    base_url = 'http://www.basketball-reference.com/players/'\n",
    "\n",
    "    # get player tables from alphabetical list pages\n",
    "    for letter in string.lowercase:\n",
    "        page_request = requests.get(base_url + letter)\n",
    "        soup = BeautifulSoup(page_request.text,\"lxml\")\n",
    "        # find table in soup\n",
    "        table = soup.find('table')\n",
    "\n",
    "        if table:\n",
    "            table_body = table.find('tbody')\n",
    "\n",
    "            # loop over list of players\n",
    "            for row in table_body.findAll('tr'):\n",
    "\n",
    "                # get name and url\n",
    "                player_url = row.find('a')\n",
    "                player_names = player_url.text\n",
    "                player_pages = player_url['href']\n",
    "\n",
    "                # get some player's info from table\n",
    "                cells = row.findAll('td')\n",
    "                active_from = int(cells[0].text)\n",
    "                active_to = int(cells[1].text)\n",
    "                position = cells[2].text\n",
    "                height = cells[3].text\n",
    "                weight = cells[4].text\n",
    "                birth_date = cells[5].text\n",
    "                college = cells[6].text    \n",
    "\n",
    "                # create entry\n",
    "                player_entry = {'url': player_pages,\n",
    "                                'name': player_names,\n",
    "                                'active_from': active_from,\n",
    "                                'active_to': active_to,\n",
    "                                'position': position,\n",
    "                                'college': college,\n",
    "                                'height': height,\n",
    "                                'weight': weight,\n",
    "                                'birth_date': birth_date}\n",
    "\n",
    "                # append player dictionary\n",
    "                players.append(player_entry)\n",
    "                \n",
    "    return pd.DataFrame(players)"
   ]
  },
  {
   "cell_type": "code",
   "execution_count": 162,
   "metadata": {
    "collapsed": false
   },
   "outputs": [
    {
     "data": {
      "text/html": [
       "<div>\n",
       "<table border=\"1\" class=\"dataframe\">\n",
       "  <thead>\n",
       "    <tr style=\"text-align: right;\">\n",
       "      <th></th>\n",
       "      <th>active_from</th>\n",
       "      <th>active_to</th>\n",
       "      <th>birth_date</th>\n",
       "      <th>college</th>\n",
       "      <th>height</th>\n",
       "      <th>name</th>\n",
       "      <th>position</th>\n",
       "      <th>url</th>\n",
       "      <th>weight</th>\n",
       "    </tr>\n",
       "  </thead>\n",
       "  <tbody>\n",
       "    <tr>\n",
       "      <th>0</th>\n",
       "      <td>1991</td>\n",
       "      <td>1995</td>\n",
       "      <td>June 24, 1968</td>\n",
       "      <td>Duke University</td>\n",
       "      <td>6-10</td>\n",
       "      <td>Alaa Abdelnaby</td>\n",
       "      <td>F-C</td>\n",
       "      <td>/players/a/abdelal01.html</td>\n",
       "      <td>240</td>\n",
       "    </tr>\n",
       "    <tr>\n",
       "      <th>1</th>\n",
       "      <td>1969</td>\n",
       "      <td>1978</td>\n",
       "      <td>April 7, 1946</td>\n",
       "      <td>Iowa State University</td>\n",
       "      <td>6-9</td>\n",
       "      <td>Zaid Abdul-Aziz</td>\n",
       "      <td>C-F</td>\n",
       "      <td>/players/a/abdulza01.html</td>\n",
       "      <td>235</td>\n",
       "    </tr>\n",
       "    <tr>\n",
       "      <th>2</th>\n",
       "      <td>1970</td>\n",
       "      <td>1989</td>\n",
       "      <td>April 16, 1947</td>\n",
       "      <td>University of California, Los Angeles</td>\n",
       "      <td>7-2</td>\n",
       "      <td>Kareem Abdul-Jabbar</td>\n",
       "      <td>C</td>\n",
       "      <td>/players/a/abdulka01.html</td>\n",
       "      <td>225</td>\n",
       "    </tr>\n",
       "    <tr>\n",
       "      <th>3</th>\n",
       "      <td>1991</td>\n",
       "      <td>2001</td>\n",
       "      <td>March 9, 1969</td>\n",
       "      <td>Louisiana State University</td>\n",
       "      <td>6-1</td>\n",
       "      <td>Mahmoud Abdul-Rauf</td>\n",
       "      <td>G</td>\n",
       "      <td>/players/a/abdulma02.html</td>\n",
       "      <td>162</td>\n",
       "    </tr>\n",
       "    <tr>\n",
       "      <th>4</th>\n",
       "      <td>1998</td>\n",
       "      <td>2003</td>\n",
       "      <td>November 3, 1974</td>\n",
       "      <td>University of Michigan, San Jose State University</td>\n",
       "      <td>6-6</td>\n",
       "      <td>Tariq Abdul-Wahad</td>\n",
       "      <td>F</td>\n",
       "      <td>/players/a/abdulta01.html</td>\n",
       "      <td>223</td>\n",
       "    </tr>\n",
       "  </tbody>\n",
       "</table>\n",
       "</div>"
      ],
      "text/plain": [
       "   active_from  active_to        birth_date  \\\n",
       "0         1991       1995     June 24, 1968   \n",
       "1         1969       1978     April 7, 1946   \n",
       "2         1970       1989    April 16, 1947   \n",
       "3         1991       2001     March 9, 1969   \n",
       "4         1998       2003  November 3, 1974   \n",
       "\n",
       "                                             college height  \\\n",
       "0                                    Duke University   6-10   \n",
       "1                              Iowa State University    6-9   \n",
       "2              University of California, Los Angeles    7-2   \n",
       "3                         Louisiana State University    6-1   \n",
       "4  University of Michigan, San Jose State University    6-6   \n",
       "\n",
       "                  name position                        url weight  \n",
       "0       Alaa Abdelnaby      F-C  /players/a/abdelal01.html    240  \n",
       "1      Zaid Abdul-Aziz      C-F  /players/a/abdulza01.html    235  \n",
       "2  Kareem Abdul-Jabbar        C  /players/a/abdulka01.html    225  \n",
       "3   Mahmoud Abdul-Rauf        G  /players/a/abdulma02.html    162  \n",
       "4    Tariq Abdul-Wahad        F  /players/a/abdulta01.html    223  "
      ]
     },
     "execution_count": 162,
     "metadata": {},
     "output_type": "execute_result"
    }
   ],
   "source": [
    "players_general_info = player_info() # call function that scrapes general info\n",
    "players_general_info.head() # preview"
   ]
  },
  {
   "cell_type": "code",
   "execution_count": 164,
   "metadata": {
    "collapsed": false
   },
   "outputs": [
    {
     "data": {
      "text/plain": [
       "(4656, 9)"
      ]
     },
     "execution_count": 164,
     "metadata": {},
     "output_type": "execute_result"
    }
   ],
   "source": [
    "players_general_info.shape"
   ]
  },
  {
   "cell_type": "code",
   "execution_count": 165,
   "metadata": {
    "collapsed": false
   },
   "outputs": [
    {
     "name": "stdout",
     "output_type": "stream",
     "text": [
      "(1652, 9)\n"
     ]
    }
   ],
   "source": [
    "validPlayersGeneralInfo = players_general_info[(players_general_info.active_to>1976) & \n",
    "                     ((players_general_info.active_to-players_general_info.active_from)>3)]\n",
    "print validPlayersGeneralInfo.shape"
   ]
  },
  {
   "cell_type": "code",
   "execution_count": 201,
   "metadata": {
    "collapsed": false
   },
   "outputs": [
    {
     "name": "stdout",
     "output_type": "stream",
     "text": [
      "/players/h/harvean01.html\n"
     ]
    }
   ],
   "source": [
    "pl_i = 631\n",
    "print validPlayersGeneralInfo.url.values.tolist()[pl_i]"
   ]
  },
  {
   "cell_type": "code",
   "execution_count": 202,
   "metadata": {
    "collapsed": false
   },
   "outputs": [],
   "source": [
    "page_request = requests.get('http://www.basketball-reference.com' + validPlayersGeneralInfo.url.values.tolist()[pl_i])"
   ]
  },
  {
   "cell_type": "code",
   "execution_count": 208,
   "metadata": {
    "collapsed": false
   },
   "outputs": [
    {
     "data": {
      "text/plain": [
       "[35, 63, 8, 97, 28, 50, 43, 84, 55, 57]"
      ]
     },
     "execution_count": 208,
     "metadata": {},
     "output_type": "execute_result"
    }
   ],
   "source": [
    "np.random.choice(range(100),10).tolist()"
   ]
  },
  {
   "cell_type": "code",
   "execution_count": 251,
   "metadata": {
    "collapsed": false
   },
   "outputs": [
    {
     "name": "stdout",
     "output_type": "stream",
     "text": [
      "816\n",
      "['all_per_game', 'all_per_minute', 'all_per_poss', 'all_advanced', 'all_playoffs_per_game', 'all_playoffs_per_minute', 'all_playoffs_per_poss', 'all_playoffs_advanced']\n",
      "['all_playoffs_per_poss', 'all_advanced', 'all_playoffs_advanced', 'all_per_game', 'all_playoffs_per_minute', 'all_per_poss', 'all_per_minute', 'all_playoffs_per_game']\n",
      "218\n",
      "['all_per_game', 'all_per_minute', 'all_per_poss', 'all_advanced', 'all_playoffs_per_game', 'all_playoffs_per_minute', 'all_playoffs_per_poss', 'all_playoffs_advanced']\n",
      "['all_playoffs_per_poss', 'all_advanced', 'all_playoffs_advanced', 'all_per_game', 'all_playoffs_per_minute', 'all_per_poss', 'all_per_minute', 'all_playoffs_per_game']\n",
      "655\n",
      "['all_per_game', 'all_totals', 'all_per_minute', 'all_per_poss', 'all_shooting', 'all_year-and-career-highs', 'all_playoffs_per_game', 'all_playoffs_totals']\n",
      "['all_per_poss', 'all_per_minute', 'all_playoffs_per_game', 'all_per_game']\n",
      "1313\n",
      "['all_per_game', 'all_totals', 'all_per_minute', 'all_per_poss', 'all_shooting', 'all_year-and-career-highs', 'all_playoffs_per_game', 'all_playoffs_totals']\n",
      "['all_per_poss', 'all_per_minute', 'all_playoffs_per_game', 'all_per_game']\n",
      "1305\n",
      "['all_per_game', 'all_per_minute', 'all_per_poss', 'all_advanced', 'all_playoffs_per_game', 'all_playoffs_per_minute', 'all_playoffs_per_poss', 'all_playoffs_advanced']\n",
      "['all_playoffs_per_poss', 'all_advanced', 'all_playoffs_advanced', 'all_per_game', 'all_playoffs_per_minute', 'all_per_poss', 'all_per_minute', 'all_playoffs_per_game']\n",
      "678\n",
      "['all_per_game', 'all_per_minute', 'all_per_poss', 'all_advanced', 'all_pbp', 'all_playoffs_per_game', 'all_playoffs_totals', 'all_playoffs_per_minute']\n",
      "['all_advanced', 'all_per_game', 'all_playoffs_per_minute', 'all_per_poss', 'all_per_minute', 'all_playoffs_per_game']\n",
      "1211\n",
      "['all_per_game', 'all_per_minute', 'all_per_poss', 'all_advanced', 'all_pbp', 'all_playoffs_per_game', 'all_playoffs_totals', 'all_playoffs_per_minute']\n",
      "['all_advanced', 'all_per_game', 'all_playoffs_per_minute', 'all_per_poss', 'all_per_minute', 'all_playoffs_per_game']\n",
      "737\n",
      "['all_per_game', 'all_totals', 'all_per_minute', 'all_per_poss', 'all_shooting', 'all_year-and-career-highs', 'all_playoffs_per_game', 'all_playoffs_totals']\n",
      "['all_per_poss', 'all_per_minute', 'all_playoffs_per_game', 'all_per_game']\n",
      "180\n",
      "['all_per_game', 'all_totals', 'all_per_minute', 'all_per_poss', 'all_shooting', 'all_year-and-career-highs', 'all_playoffs_per_game', 'all_playoffs_totals']\n",
      "['all_per_poss', 'all_per_minute', 'all_playoffs_per_game', 'all_per_game']\n",
      "822\n",
      "['all_per_game', 'all_per_minute', 'all_per_poss', 'all_advanced', 'all_playoffs_per_game', 'all_playoffs_per_minute', 'all_playoffs_per_poss', 'all_playoffs_advanced']\n",
      "['all_playoffs_per_poss', 'all_advanced', 'all_playoffs_advanced', 'all_per_game', 'all_playoffs_per_minute', 'all_per_poss', 'all_per_minute', 'all_playoffs_per_game']\n"
     ]
    }
   ],
   "source": [
    "for player_idx in np.random.choice(range(validPlayersGeneralInfo.shape[0]),10).tolist():\n",
    "    print player_idx\n",
    "    page_request = requests.get('http://www.basketball-reference.com' + validPlayersGeneralInfo.url.values.tolist()[player_idx])\n",
    "    soup = BeautifulSoup(page_request.text,\"lxml\")\n",
    "    print extractData(soup).keys()\n",
    "    time.sleep(np.random.randint(25))\n",
    "    "
   ]
  },
  {
   "cell_type": "code",
   "execution_count": 203,
   "metadata": {
    "collapsed": false
   },
   "outputs": [],
   "source": [
    "soup = BeautifulSoup(page_request.text,\"lxml\")"
   ]
  },
  {
   "cell_type": "code",
   "execution_count": 169,
   "metadata": {
    "collapsed": false
   },
   "outputs": [
    {
     "name": "stdout",
     "output_type": "stream",
     "text": [
      "<class 'bs4.element.NavigableString'> 0\n",
      "<class 'bs4.element.Tag'> 1\n",
      "<class 'bs4.element.NavigableString'> 2\n",
      "<class 'bs4.element.Tag'> 3\n",
      "<class 'bs4.element.NavigableString'> 4\n"
     ]
    }
   ],
   "source": [
    "for n,i in enumerate(soup.body.div.contents[13].contents[3].contents):\n",
    "    print type(i),n\n",
    "    if type(i)==bs4.element.Tag:\n",
    "        if 'id' in i.attrs:\n",
    "            print i['id'],n"
   ]
  },
  {
   "cell_type": "code",
   "execution_count": 249,
   "metadata": {
    "collapsed": false
   },
   "outputs": [],
   "source": [
    "## how to deal with did not play seasons (MJ)\n",
    "## injured players\n",
    "\n",
    "treeDict = {'all_per_game':[3,3,1,1,6,'odd'], \n",
    "            'all_per_minute':[13,5,\"str\",0,1,0,1,1,6,'all'],\n",
    "            \"all_per_poss\":[19,5,\"str\",0,1,0,1,1,6,'all'],\n",
    "            \"all_advanced\":[21,5,\"str\",0,1,0,1,1,6,'all'],\n",
    "            \"all_playoffs_per_game\":[29,5,\"str\",0,1,0,1,1,6,'all'],\n",
    "            \"all_playoffs_per_minute\":[33,5,\"str\",0,1,0,1,1,6,'all'],\n",
    "            \"all_playoffs_per_poss\":[35,5,\"str\",0,1,0,1,1,6,'all'],\n",
    "            \"all_playoffs_advanced\":[37,5,\"str\",0,1,0,1,1,6,'all']}\n",
    "\n",
    "def traverseTree(obj,tr):\n",
    "    if len(tr)==1:\n",
    "        return obj,tr[0]\n",
    "    elif type(tr[0])==str:\n",
    "        converted = str(obj).replace('\\n','').replace('\\t','')\n",
    "        return traverseTree(BeautifulSoup(converted,\"html5lib\"),tr[1:])\n",
    "    else:\n",
    "        return traverseTree(obj.contents[tr[0]],tr[1:])\n",
    "    \n",
    "def extractTableData(table,playerData,k,tableType):\n",
    "    if len(table.contents)>1:\n",
    "        if tableType=='odd':\n",
    "            odds = range(1,len(table.contents),2)\n",
    "            rows = []\n",
    "            for o in odds:\n",
    "                tableRow = table.contents[o]\n",
    "                row = {}\n",
    "                for i,c in enumerate(tableRow.contents):\n",
    "                    try:\n",
    "                        if len(c.contents)>0:\n",
    "                            row[c['data-stat']] = c.contents[0]\n",
    "                            ## must add stripping out contents by type\n",
    "                    except:\n",
    "                        continue\n",
    "                rows.append(row)\n",
    "            playerData[k] = rows\n",
    "        elif tableType=='all':\n",
    "            rows = []\n",
    "            for j in range(len(table.contents))[:-1]:\n",
    "                row = {}\n",
    "                for i,c in enumerate(table.contents[j]):\n",
    "                    try:\n",
    "                        if len(c.contents)>0:\n",
    "                            row[c['data-stat']] = c.contents[0]\n",
    "                    except:\n",
    "                        continue\n",
    "                rows.append(row)\n",
    "            playerData[k] = rows\n",
    "    else: # deal with strings with only one year of playing time?...\n",
    "        row = {}\n",
    "        \n",
    "\n",
    "def extractData(ppg):\n",
    "    relevantSets = [3,13,19,21,29,33,35,37,]\n",
    "    relevantSets = [r for r in relevantSets if type(ppg.body.div.contents[13].contents[r])!=bs4.element.Comment]\n",
    "    playerData = {}\n",
    "    print [ppg.body.div.contents[13].contents[k]['id'] for k in relevantSets]\n",
    "    for r in relevantSets:\n",
    "        key = ppg.body.div.contents[13].contents[r]['id']\n",
    "        if key in treeDict:\n",
    "            dataTable,tableType = traverseTree(ppg.body.div.contents[13],treeDict[key])\n",
    "            extractTableData(dataTable,playerData,key,tableType)\n",
    "    return playerData"
   ]
  },
  {
   "cell_type": "code",
   "execution_count": 250,
   "metadata": {
    "collapsed": false
   },
   "outputs": [
    {
     "name": "stdout",
     "output_type": "stream",
     "text": [
      "['all_per_game', 'all_per_minute', 'all_per_poss', 'all_advanced', 'all_all_college_stats', 'all_9351239279']\n"
     ]
    },
    {
     "data": {
      "text/plain": [
       "['all_per_poss', 'all_per_minute', 'all_advanced', 'all_per_game']"
      ]
     },
     "execution_count": 250,
     "metadata": {},
     "output_type": "execute_result"
    }
   ],
   "source": [
    "extractData(soup).keys()\n",
    "#pd.DataFrame(extractData(soup)['all_per_minute'])"
   ]
  },
  {
   "cell_type": "code",
   "execution_count": 248,
   "metadata": {
    "collapsed": false
   },
   "outputs": [
    {
     "data": {
      "text/plain": [
       "True"
      ]
     },
     "execution_count": 248,
     "metadata": {},
     "output_type": "execute_result"
    }
   ],
   "source": [
    "type(soup.body.div.contents[13].contents[35])==bs4.element.Comment"
   ]
  },
  {
   "cell_type": "code",
   "execution_count": 217,
   "metadata": {
    "collapsed": false
   },
   "outputs": [
    {
     "data": {
      "text/plain": [
       "[u'\\n',\n",
       " <tr class=\"full_table\" id=\"per_game.1981\"><th class=\"left \" data-stat=\"season\" scope=\"row\"><a href=\"/players/n/nattke01/gamelog/1981/\">1980-81</a></th><td class=\"center \" data-stat=\"age\">22</td><td class=\"left \" data-stat=\"team_id\"><a href=\"/teams/IND/1981.html\">IND</a></td><td class=\"left \" data-stat=\"lg_id\"><a href=\"/leagues/NBA_1981.html\">NBA</a></td><td class=\"center \" data-stat=\"pos\">SG</td><td class=\"right \" data-stat=\"g\">19</td><td class=\"right iz\" data-stat=\"gs\"></td><td class=\"right \" data-stat=\"mp_per_g\">7.8</td><td class=\"right \" data-stat=\"fg_per_g\">1.3</td><td class=\"right \" data-stat=\"fga_per_g\">4.1</td><td class=\"right \" data-stat=\"fg_pct\">.325</td><td class=\"right \" data-stat=\"fg3_per_g\">0.1</td><td class=\"right \" data-stat=\"fg3a_per_g\">0.4</td><td class=\"right \" data-stat=\"fg3_pct\">.250</td><td class=\"right \" data-stat=\"fg2_per_g\">1.2</td><td class=\"right \" data-stat=\"fg2a_per_g\">3.6</td><td class=\"right \" data-stat=\"fg2_pct\">.333</td><td class=\"right \" data-stat=\"efg_pct\">.338</td><td class=\"right \" data-stat=\"ft_per_g\">0.4</td><td class=\"right \" data-stat=\"fta_per_g\">0.6</td><td class=\"right \" data-stat=\"ft_pct\">.636</td><td class=\"right \" data-stat=\"orb_per_g\">0.5</td><td class=\"right \" data-stat=\"drb_per_g\">0.3</td><td class=\"right \" data-stat=\"trb_per_g\">0.8</td><td class=\"right \" data-stat=\"ast_per_g\">0.5</td><td class=\"right \" data-stat=\"stl_per_g\">0.3</td><td class=\"right \" data-stat=\"blk_per_g\">0.1</td><td class=\"right \" data-stat=\"tov_per_g\">0.5</td><td class=\"right \" data-stat=\"pf_per_g\">0.9</td><td class=\"right \" data-stat=\"pts_per_g\">3.1</td></tr>,\n",
       " u'\\n',\n",
       " <tr>\\n<td>1981-82</td>\\n<td class=\"center\">23</td>\\n<td colspan=\"28\">Did Not Play\\xa0(other pro league\\u2014CBA)</td>\\n</tr>,\n",
       " u'\\n',\n",
       " <tr class=\"full_table\" id=\"per_game.1983\"><th class=\"left \" data-stat=\"season\" scope=\"row\"><a href=\"/players/n/nattke01/gamelog/1983/\">1982-83</a></th><td class=\"center \" data-stat=\"age\">24</td><td class=\"left \" data-stat=\"team_id\"><a href=\"/teams/UTA/1983.html\">UTA</a></td><td class=\"left \" data-stat=\"lg_id\"><a href=\"/leagues/NBA_1983.html\">NBA</a></td><td class=\"center \" data-stat=\"pos\">SG</td><td class=\"right \" data-stat=\"g\">22</td><td class=\"right iz\" data-stat=\"gs\">0</td><td class=\"right \" data-stat=\"mp_per_g\">9.5</td><td class=\"right \" data-stat=\"fg_per_g\">1.7</td><td class=\"right \" data-stat=\"fga_per_g\">3.3</td><td class=\"right \" data-stat=\"fg_pct\">.521</td><td class=\"right \" data-stat=\"fg3_per_g\">0.0</td><td class=\"right \" data-stat=\"fg3a_per_g\">0.1</td><td class=\"right \" data-stat=\"fg3_pct\">.000</td><td class=\"right \" data-stat=\"fg2_per_g\">1.7</td><td class=\"right \" data-stat=\"fg2a_per_g\">3.2</td><td class=\"right \" data-stat=\"fg2_pct\">.535</td><td class=\"right \" data-stat=\"efg_pct\">.521</td><td class=\"right \" data-stat=\"ft_per_g\">0.4</td><td class=\"right \" data-stat=\"fta_per_g\">0.6</td><td class=\"right \" data-stat=\"ft_pct\">.643</td><td class=\"right \" data-stat=\"orb_per_g\">0.3</td><td class=\"right \" data-stat=\"drb_per_g\">0.7</td><td class=\"right \" data-stat=\"trb_per_g\">1.0</td><td class=\"right \" data-stat=\"ast_per_g\">1.3</td><td class=\"right \" data-stat=\"stl_per_g\">0.2</td><td class=\"right \" data-stat=\"blk_per_g\">0.0</td><td class=\"right \" data-stat=\"tov_per_g\">1.0</td><td class=\"right \" data-stat=\"pf_per_g\">1.6</td><td class=\"right \" data-stat=\"pts_per_g\">3.9</td></tr>,\n",
       " u'\\n',\n",
       " <tr>\\n<td>1983-84</td>\\n<td class=\"center\">25</td>\\n<td colspan=\"28\">Did Not Play\\xa0(other pro league\\u2014CBA)</td>\\n</tr>,\n",
       " u'\\n',\n",
       " <tr class=\"full_table\" id=\"per_game.1985\"><th class=\"left \" data-stat=\"season\" scope=\"row\"><a href=\"/players/n/nattke01/gamelog/1985/\">1984-85</a></th><td class=\"center \" data-stat=\"age\">26</td><td class=\"left \" data-stat=\"team_id\">TOT</td><td class=\"left \" data-stat=\"lg_id\"><a href=\"/leagues/NBA_1985.html\">NBA</a></td><td class=\"center \" data-stat=\"pos\">SG</td><td class=\"right \" data-stat=\"g\">8</td><td class=\"right iz\" data-stat=\"gs\">0</td><td class=\"right \" data-stat=\"mp_per_g\">3.6</td><td class=\"right \" data-stat=\"fg_per_g\">0.3</td><td class=\"right \" data-stat=\"fga_per_g\">0.8</td><td class=\"right \" data-stat=\"fg_pct\">.333</td><td class=\"right \" data-stat=\"fg3_per_g\">0.0</td><td class=\"right \" data-stat=\"fg3a_per_g\">0.0</td><td class=\"right iz\" data-stat=\"fg3_pct\"></td><td class=\"right \" data-stat=\"fg2_per_g\">0.3</td><td class=\"right \" data-stat=\"fg2a_per_g\">0.8</td><td class=\"right \" data-stat=\"fg2_pct\">.333</td><td class=\"right \" data-stat=\"efg_pct\">.333</td><td class=\"right \" data-stat=\"ft_per_g\">0.3</td><td class=\"right \" data-stat=\"fta_per_g\">0.5</td><td class=\"right \" data-stat=\"ft_pct\">.500</td><td class=\"right \" data-stat=\"orb_per_g\">0.3</td><td class=\"right \" data-stat=\"drb_per_g\">0.1</td><td class=\"right \" data-stat=\"trb_per_g\">0.4</td><td class=\"right \" data-stat=\"ast_per_g\">0.4</td><td class=\"right \" data-stat=\"stl_per_g\">0.3</td><td class=\"right \" data-stat=\"blk_per_g\">0.0</td><td class=\"right \" data-stat=\"tov_per_g\">0.4</td><td class=\"right \" data-stat=\"pf_per_g\">0.4</td><td class=\"right \" data-stat=\"pts_per_g\">0.8</td></tr>,\n",
       " u'\\n',\n",
       " <tr class=\"light_text partial_table\" id=\"per_game.1985\"><th class=\"left \" data-stat=\"season\" scope=\"row\"><a href=\"/players/n/nattke01/gamelog/1985/\">1984-85</a></th><td class=\"center \" data-stat=\"age\">26</td><td class=\"left \" data-stat=\"team_id\"><a href=\"/teams/UTA/1985.html\">UTA</a></td><td class=\"left \" data-stat=\"lg_id\"><a href=\"/leagues/NBA_1985.html\">NBA</a></td><td class=\"center \" data-stat=\"pos\">SG</td><td class=\"right \" data-stat=\"g\">4</td><td class=\"right iz\" data-stat=\"gs\">0</td><td class=\"right \" data-stat=\"mp_per_g\">3.3</td><td class=\"right \" data-stat=\"fg_per_g\">0.5</td><td class=\"right \" data-stat=\"fga_per_g\">1.3</td><td class=\"right \" data-stat=\"fg_pct\">.400</td><td class=\"right \" data-stat=\"fg3_per_g\">0.0</td><td class=\"right \" data-stat=\"fg3a_per_g\">0.0</td><td class=\"right iz\" data-stat=\"fg3_pct\"></td><td class=\"right \" data-stat=\"fg2_per_g\">0.5</td><td class=\"right \" data-stat=\"fg2a_per_g\">1.3</td><td class=\"right \" data-stat=\"fg2_pct\">.400</td><td class=\"right \" data-stat=\"efg_pct\">.400</td><td class=\"right \" data-stat=\"ft_per_g\">0.5</td><td class=\"right \" data-stat=\"fta_per_g\">1.0</td><td class=\"right \" data-stat=\"ft_pct\">.500</td><td class=\"right \" data-stat=\"orb_per_g\">0.3</td><td class=\"right \" data-stat=\"drb_per_g\">0.3</td><td class=\"right \" data-stat=\"trb_per_g\">0.5</td><td class=\"right \" data-stat=\"ast_per_g\">0.0</td><td class=\"right \" data-stat=\"stl_per_g\">0.3</td><td class=\"right \" data-stat=\"blk_per_g\">0.0</td><td class=\"right \" data-stat=\"tov_per_g\">0.8</td><td class=\"right \" data-stat=\"pf_per_g\">0.5</td><td class=\"right \" data-stat=\"pts_per_g\">1.5</td></tr>,\n",
       " u'\\n',\n",
       " <tr class=\"light_text partial_table\" id=\"per_game.1985\"><th class=\"left \" data-stat=\"season\" scope=\"row\"><a href=\"/players/n/nattke01/gamelog/1985/\">1984-85</a></th><td class=\"center \" data-stat=\"age\">26</td><td class=\"left \" data-stat=\"team_id\"><a href=\"/teams/KCK/1985.html\">KCK</a></td><td class=\"left \" data-stat=\"lg_id\"><a href=\"/leagues/NBA_1985.html\">NBA</a></td><td class=\"center \" data-stat=\"pos\">SG</td><td class=\"right \" data-stat=\"g\">4</td><td class=\"right iz\" data-stat=\"gs\">0</td><td class=\"right \" data-stat=\"mp_per_g\">4.0</td><td class=\"right \" data-stat=\"fg_per_g\">0.0</td><td class=\"right \" data-stat=\"fga_per_g\">0.3</td><td class=\"right \" data-stat=\"fg_pct\">.000</td><td class=\"right \" data-stat=\"fg3_per_g\">0.0</td><td class=\"right \" data-stat=\"fg3a_per_g\">0.0</td><td class=\"right iz\" data-stat=\"fg3_pct\"></td><td class=\"right \" data-stat=\"fg2_per_g\">0.0</td><td class=\"right \" data-stat=\"fg2a_per_g\">0.3</td><td class=\"right \" data-stat=\"fg2_pct\">.000</td><td class=\"right \" data-stat=\"efg_pct\">.000</td><td class=\"right \" data-stat=\"ft_per_g\">0.0</td><td class=\"right \" data-stat=\"fta_per_g\">0.0</td><td class=\"right iz\" data-stat=\"ft_pct\"></td><td class=\"right \" data-stat=\"orb_per_g\">0.3</td><td class=\"right \" data-stat=\"drb_per_g\">0.0</td><td class=\"right \" data-stat=\"trb_per_g\">0.3</td><td class=\"right \" data-stat=\"ast_per_g\">0.8</td><td class=\"right \" data-stat=\"stl_per_g\">0.3</td><td class=\"right \" data-stat=\"blk_per_g\">0.0</td><td class=\"right \" data-stat=\"tov_per_g\">0.0</td><td class=\"right \" data-stat=\"pf_per_g\">0.3</td><td class=\"right \" data-stat=\"pts_per_g\">0.0</td></tr>,\n",
       " u'\\n']"
      ]
     },
     "execution_count": 217,
     "metadata": {},
     "output_type": "execute_result"
    }
   ],
   "source": [
    "soup.body.div.contents[13].contents[3].contents[3].contents[1].contents[1].contents[6].contents\n",
    "#3,3,1,1,6,"
   ]
  },
  {
   "cell_type": "code",
   "execution_count": 173,
   "metadata": {
    "collapsed": false
   },
   "outputs": [
    {
     "data": {
      "text/plain": [
       "[<tr class=\"bold\"><th class=\"left \" data-stat=\"player\" scope=\"row\">Jimmy Oliver</th><td class=\"right iz\" csk=\"100\" data-stat=\"sim_score\"></td><td class=\"right \" data-stat=\"year1\">0.2</td><td class=\"right \" data-stat=\"year2\">0.2</td><td class=\"right \" data-stat=\"year3\">0.0</td><td class=\"right \" data-stat=\"year4\">0.0</td><td class=\"right \" data-stat=\"year5\">-0.1</td></tr>,\n",
       " <tr><th class=\"left \" data-append-csv=\"pricemi01\" data-stat=\"player\" scope=\"row\"><a href=\"/players/p/pricemi01.html\">Mike Price</a></th><td class=\"right \" data-stat=\"sim_score\">78.8</td><td class=\"right \" data-stat=\"year1\">0.2</td><td class=\"right \" data-stat=\"year2\">0.2</td><td class=\"right \" data-stat=\"year3\">0.1</td><td class=\"right iz\" data-stat=\"year4\"></td><td class=\"right iz\" data-stat=\"year5\"></td></tr>,\n",
       " <tr><th class=\"left \" data-append-csv=\"storeaw01\" data-stat=\"player\" scope=\"row\"><a href=\"/players/s/storeaw01.html\">Awvee Storey</a></th><td class=\"right \" data-stat=\"sim_score\">51.0</td><td class=\"right \" data-stat=\"year1\">0.2</td><td class=\"right \" data-stat=\"year2\">0.1</td><td class=\"right \" data-stat=\"year3\">0.0</td><td class=\"right iz\" data-stat=\"year4\"></td><td class=\"right iz\" data-stat=\"year5\"></td></tr>,\n",
       " <tr><th class=\"left \" data-append-csv=\"roberan02\" data-stat=\"player\" scope=\"row\"><a href=\"/players/r/roberan02.html\">Anthony Roberson</a></th><td class=\"right \" data-stat=\"sim_score\">50.5</td><td class=\"right \" data-stat=\"year1\">0.2</td><td class=\"right \" data-stat=\"year2\">0.2</td><td class=\"right \" data-stat=\"year3\">0.1</td><td class=\"right iz\" data-stat=\"year4\"></td><td class=\"right iz\" data-stat=\"year5\"></td></tr>,\n",
       " <tr><th class=\"left \" data-append-csv=\"woodsra01\" data-stat=\"player\" scope=\"row\"><a href=\"/players/w/woodsra01.html\">Randy Woods</a></th><td class=\"right \" data-stat=\"sim_score\">43.2</td><td class=\"right \" data-stat=\"year1\">0.3</td><td class=\"right \" data-stat=\"year2\">0.2</td><td class=\"right \" data-stat=\"year3\">0.1</td><td class=\"right \" data-stat=\"year4\">0.1</td><td class=\"right iz\" data-stat=\"year5\"></td></tr>,\n",
       " <tr><th class=\"left \" data-append-csv=\"barrydr01\" data-stat=\"player\" scope=\"row\"><a href=\"/players/b/barrydr01.html\">Drew Barry</a></th><td class=\"right \" data-stat=\"sim_score\">36.3</td><td class=\"right \" data-stat=\"year1\">0.3</td><td class=\"right \" data-stat=\"year2\">0.2</td><td class=\"right \" data-stat=\"year3\">0.1</td><td class=\"right iz\" data-stat=\"year4\"></td><td class=\"right iz\" data-stat=\"year5\"></td></tr>,\n",
       " <tr><th class=\"left \" data-append-csv=\"blankla01\" data-stat=\"player\" scope=\"row\"><a href=\"/players/b/blankla01.html\">Lance Blanks</a></th><td class=\"right \" data-stat=\"sim_score\">30.2</td><td class=\"right \" data-stat=\"year1\">0.4</td><td class=\"right \" data-stat=\"year2\">0.2</td><td class=\"right \" data-stat=\"year3\">0.1</td><td class=\"right iz\" data-stat=\"year4\"></td><td class=\"right iz\" data-stat=\"year5\"></td></tr>,\n",
       " <tr><th class=\"left \" data-append-csv=\"duffybo02\" data-stat=\"player\" scope=\"row\"><a href=\"/players/d/duffybo02.html\">Bob Duffy</a></th><td class=\"right \" data-stat=\"sim_score\">24.7</td><td class=\"right \" data-stat=\"year1\">0.3</td><td class=\"right \" data-stat=\"year2\">0.1</td><td class=\"right \" data-stat=\"year3\">0.1</td><td class=\"right iz\" data-stat=\"year4\"></td><td class=\"right iz\" data-stat=\"year5\"></td></tr>,\n",
       " <tr><th class=\"left \" data-append-csv=\"weberbr01\" data-stat=\"player\" scope=\"row\"><a href=\"/players/w/weberbr01.html\">Briante Weber</a></th><td class=\"right \" data-stat=\"sim_score\">24.2</td><td class=\"right \" data-stat=\"year1\">0.4</td><td class=\"right \" data-stat=\"year2\">0.3</td><td class=\"right \" data-stat=\"year3\">0.0</td><td class=\"right iz\" data-stat=\"year4\"></td><td class=\"right iz\" data-stat=\"year5\"></td></tr>,\n",
       " <tr><th class=\"left \" data-append-csv=\"dialde01\" data-stat=\"player\" scope=\"row\"><a href=\"/players/d/dialde01.html\">Derrick Dial</a></th><td class=\"right \" data-stat=\"sim_score\">24.0</td><td class=\"right \" data-stat=\"year1\">0.4</td><td class=\"right \" data-stat=\"year2\">0.1</td><td class=\"right \" data-stat=\"year3\">0.1</td><td class=\"right \" data-stat=\"year4\">0.1</td><td class=\"right iz\" data-stat=\"year5\"></td></tr>,\n",
       " <tr><th class=\"left \" data-append-csv=\"cunnija01\" data-stat=\"player\" scope=\"row\"><a href=\"/players/c/cunnija01.html\">Jared Cunningham</a></th><td class=\"right \" data-stat=\"sim_score\">23.9</td><td class=\"right \" data-stat=\"year1\">0.1</td><td class=\"right \" data-stat=\"year2\">0.1</td><td class=\"right \" data-stat=\"year3\">0.0</td><td class=\"right \" data-stat=\"year4\">0.0</td><td class=\"right iz\" data-stat=\"year5\"></td></tr>]"
      ]
     },
     "execution_count": 173,
     "metadata": {},
     "output_type": "execute_result"
    }
   ],
   "source": [
    "sample = str(soup.body.div.contents[13].contents[29].contents[5]).replace('\\n','').replace('\\t','')\n",
    "# print sample\n",
    "sample = BeautifulSoup(sample,\"html5lib\")\n",
    "sample.contents[0].contents[1].contents[0].contents[1].contents[1].contents[6].contents\n",
    "\n",
    "# for n,i in enumerate(soup.body.div.contents[13].contents[13].contents):\n",
    "#     print type(i),n\n",
    "#     if type(i)==bs4.element.Tag:\n",
    "#         if 'id' in i.attrs:\n",
    "#             print i['id'],n"
   ]
  },
  {
   "cell_type": "code",
   "execution_count": 231,
   "metadata": {
    "collapsed": false
   },
   "outputs": [
    {
     "data": {
      "text/plain": [
       "45"
      ]
     },
     "execution_count": 231,
     "metadata": {},
     "output_type": "execute_result"
    }
   ],
   "source": [
    "len(soup.body.div.contents[13].contents)"
   ]
  },
  {
   "cell_type": "code",
   "execution_count": 88,
   "metadata": {
    "collapsed": false
   },
   "outputs": [
    {
     "name": "stdout",
     "output_type": "stream",
     "text": [
      "all_per_game 3\n",
      "all_4721804306 5\n",
      "all_totals 11\n",
      "all_per_minute 13\n",
      "all_per_poss 19\n",
      "all_advanced 21\n",
      "all_year-and-career-highs 27\n",
      "all_playoffs_per_game 29\n",
      "all_playoffs_totals 31\n",
      "all_playoffs_per_minute 33\n",
      "all_playoffs_per_poss 35\n",
      "all_playoffs_advanced 37\n",
      "all_year-and-career-highs-po 39\n",
      "all_all_star 41\n",
      "all_sim_thru 43\n",
      "all_sim_career 45\n",
      "all_all_college_stats 47\n",
      "all_leaderboard 49\n",
      "all_transactions 51\n",
      "all_5448669928 53\n",
      "bottom_nav 59\n"
     ]
    }
   ],
   "source": [
    "for n,i in enumerate(soup.body.div.contents[13].contents):\n",
    "    if type(i)==bs4.element.Tag:\n",
    "        if 'id' in i.attrs:\n",
    "            print i['id'],n"
   ]
  },
  {
   "cell_type": "code",
   "execution_count": 91,
   "metadata": {
    "collapsed": false
   },
   "outputs": [
    {
     "data": {
      "text/plain": [
       "[u'\\n',\n",
       " <tr class=\"full_table\" id=\"per_game.1972\"><th class=\"left \" data-stat=\"season\" scope=\"row\"><a href=\"/players/m/mcginge01/gamelog/1972/aba/\">1971-72</a></th><td class=\"center \" data-stat=\"age\">21</td><td class=\"left \" data-stat=\"team_id\"><a href=\"/teams/INA/1972.html\">INA</a></td><td class=\"left \" data-stat=\"lg_id\"><a href=\"/leagues/ABA_1972.html\">ABA</a></td><td class=\"center \" data-stat=\"pos\">SF</td><td class=\"right \" data-stat=\"g\">73</td><td class=\"right iz\" data-stat=\"gs\"></td><td class=\"right \" data-stat=\"mp_per_g\">29.8</td><td class=\"right \" data-stat=\"fg_per_g\">6.4</td><td class=\"right \" data-stat=\"fga_per_g\">13.7</td><td class=\"right \" data-stat=\"fg_pct\">.465</td><td class=\"right \" data-stat=\"fg3_per_g\">0.1</td><td class=\"right \" data-stat=\"fg3a_per_g\">0.5</td><td class=\"right \" data-stat=\"fg3_pct\">.158</td><td class=\"right \" data-stat=\"fg2_per_g\">6.3</td><td class=\"right \" data-stat=\"fg2a_per_g\">13.2</td><td class=\"right \" data-stat=\"fg2_pct\">.478</td><td class=\"right \" data-stat=\"efg_pct\">.468</td><td class=\"right \" data-stat=\"ft_per_g\">4.1</td><td class=\"right \" data-stat=\"fta_per_g\">6.3</td><td class=\"right \" data-stat=\"ft_pct\">.645</td><td class=\"right \" data-stat=\"orb_per_g\">4.0</td><td class=\"right \" data-stat=\"drb_per_g\">5.8</td><td class=\"right \" data-stat=\"trb_per_g\">9.7</td><td class=\"right \" data-stat=\"ast_per_g\">1.9</td><td class=\"right iz\" data-stat=\"stl_per_g\"></td><td class=\"right iz\" data-stat=\"blk_per_g\"></td><td class=\"right \" data-stat=\"tov_per_g\">3.5</td><td class=\"right \" data-stat=\"pf_per_g\">3.6</td><td class=\"right \" data-stat=\"pts_per_g\">16.9</td></tr>,\n",
       " u'\\n',\n",
       " <tr class=\"full_table\" id=\"per_game.1973\"><th class=\"left \" data-stat=\"season\" scope=\"row\"><a href=\"/players/m/mcginge01/gamelog/1973/aba/\">1972-73</a><span class=\"sr_star\"></span></th><td class=\"center \" data-stat=\"age\">22</td><td class=\"left \" data-stat=\"team_id\"><a href=\"/teams/INA/1973.html\">INA</a></td><td class=\"left \" data-stat=\"lg_id\"><a href=\"/leagues/ABA_1973.html\">ABA</a></td><td class=\"center \" data-stat=\"pos\">PF</td><td class=\"right \" data-stat=\"g\">82</td><td class=\"right iz\" data-stat=\"gs\"></td><td class=\"right \" data-stat=\"mp_per_g\">40.8</td><td class=\"right \" data-stat=\"fg_per_g\">10.6</td><td class=\"right \" data-stat=\"fga_per_g\">21.4</td><td class=\"right \" data-stat=\"fg_pct\">.495</td><td class=\"right \" data-stat=\"fg3_per_g\">0.1</td><td class=\"right \" data-stat=\"fg3a_per_g\">0.4</td><td class=\"right \" data-stat=\"fg3_pct\">.250</td><td class=\"right \" data-stat=\"fg2_per_g\">10.5</td><td class=\"right \" data-stat=\"fg2a_per_g\">21.0</td><td class=\"right \" data-stat=\"fg2_pct\">.499</td><td class=\"right \" data-stat=\"efg_pct\">.497</td><td class=\"right \" data-stat=\"ft_per_g\">6.3</td><td class=\"right \" data-stat=\"fta_per_g\">9.5</td><td class=\"right \" data-stat=\"ft_pct\">.665</td><td class=\"right \" data-stat=\"orb_per_g\">5.3</td><td class=\"right \" data-stat=\"drb_per_g\">7.2</td><td class=\"right \" data-stat=\"trb_per_g\">12.5</td><td class=\"right \" data-stat=\"ast_per_g\">2.5</td><td class=\"right \" data-stat=\"stl_per_g\">2.0</td><td class=\"right iz\" data-stat=\"blk_per_g\"></td><td class=\"right \" data-stat=\"tov_per_g\">4.9</td><td class=\"right \" data-stat=\"pf_per_g\">4.2</td><td class=\"right \" data-stat=\"pts_per_g\">27.6</td></tr>,\n",
       " u'\\n',\n",
       " <tr class=\"full_table\" id=\"per_game.1974\"><th class=\"left \" data-stat=\"season\" scope=\"row\"><a href=\"/players/m/mcginge01/gamelog/1974/aba/\">1973-74</a><span class=\"sr_star\"></span></th><td class=\"center \" data-stat=\"age\">23</td><td class=\"left \" data-stat=\"team_id\"><a href=\"/teams/INA/1974.html\">INA</a></td><td class=\"left \" data-stat=\"lg_id\"><a href=\"/leagues/ABA_1974.html\">ABA</a></td><td class=\"center \" data-stat=\"pos\">PF</td><td class=\"right \" data-stat=\"g\">80</td><td class=\"right iz\" data-stat=\"gs\"></td><td class=\"right \" data-stat=\"mp_per_g\">40.8</td><td class=\"right \" data-stat=\"fg_per_g\">9.9</td><td class=\"right \" data-stat=\"fga_per_g\">21.1</td><td class=\"right \" data-stat=\"fg_pct\">.468</td><td class=\"right \" data-stat=\"fg3_per_g\">0.1</td><td class=\"right \" data-stat=\"fg3a_per_g\">0.4</td><td class=\"right \" data-stat=\"fg3_pct\">.147</td><td class=\"right \" data-stat=\"fg2_per_g\">9.8</td><td class=\"right \" data-stat=\"fg2a_per_g\">20.7</td><td class=\"right \" data-stat=\"fg2_pct\">.475</td><td class=\"right \" data-stat=\"efg_pct\">.469</td><td class=\"right \" data-stat=\"ft_per_g\">6.1</td><td class=\"right \" data-stat=\"fta_per_g\">8.9</td><td class=\"right \" data-stat=\"ft_pct\">.683</td><td class=\"right \" data-stat=\"orb_per_g\">5.3</td><td class=\"right \" data-stat=\"drb_per_g\">9.7</td><td class=\"right \" data-stat=\"trb_per_g\">15.0</td><td class=\"right \" data-stat=\"ast_per_g\">3.3</td><td class=\"right \" data-stat=\"stl_per_g\">2.0</td><td class=\"right \" data-stat=\"blk_per_g\">0.5</td><td class=\"right \" data-stat=\"tov_per_g\">4.9</td><td class=\"right \" data-stat=\"pf_per_g\">4.1</td><td class=\"right \" data-stat=\"pts_per_g\">25.9</td></tr>,\n",
       " u'\\n',\n",
       " <tr class=\"full_table\" id=\"per_game.1975\"><th class=\"left \" data-stat=\"season\" scope=\"row\"><a href=\"/players/m/mcginge01/gamelog/1975/aba/\">1974-75</a><span class=\"sr_star\"></span></th><td class=\"center \" data-stat=\"age\">24</td><td class=\"left \" data-stat=\"team_id\"><a href=\"/teams/INA/1975.html\">INA</a></td><td class=\"left \" data-stat=\"lg_id\"><a href=\"/leagues/ABA_1975.html\">ABA</a></td><td class=\"center \" data-stat=\"pos\">PF</td><td class=\"right \" data-stat=\"g\">79</td><td class=\"right iz\" data-stat=\"gs\"></td><td class=\"right \" data-stat=\"mp_per_g\">40.4</td><td class=\"right \" data-stat=\"fg_per_g\">11.1</td><td class=\"right \" data-stat=\"fga_per_g\">24.5</td><td class=\"right \" data-stat=\"fg_pct\">.451</td><td class=\"right \" data-stat=\"fg3_per_g\">0.8</td><td class=\"right \" data-stat=\"fg3a_per_g\">2.2</td><td class=\"right \" data-stat=\"fg3_pct\">.354</td><td class=\"right \" data-stat=\"fg2_per_g\">10.3</td><td class=\"right \" data-stat=\"fg2a_per_g\">22.3</td><td class=\"right \" data-stat=\"fg2_pct\">.461</td><td class=\"right \" data-stat=\"efg_pct\">.467</td><td class=\"right \" data-stat=\"ft_per_g\">6.9</td><td class=\"right \" data-stat=\"fta_per_g\">9.5</td><td class=\"right \" data-stat=\"ft_pct\">.724</td><td class=\"right \" data-stat=\"orb_per_g\">5.0</td><td class=\"right \" data-stat=\"drb_per_g\">9.2</td><td class=\"right \" data-stat=\"trb_per_g\">14.3</td><td class=\"right \" data-stat=\"ast_per_g\">6.3</td><td class=\"right \" data-stat=\"stl_per_g\">2.6</td><td class=\"right \" data-stat=\"blk_per_g\">0.7</td><td class=\"right \" data-stat=\"tov_per_g\">5.3</td><td class=\"right \" data-stat=\"pf_per_g\">3.8</td><td class=\"right \" data-stat=\"pts_per_g\"><strong>29.8</strong></td></tr>,\n",
       " u'\\n',\n",
       " <tr class=\"full_table\" id=\"per_game.1976\"><th class=\"left \" data-stat=\"season\" scope=\"row\"><a href=\"/players/m/mcginge01/gamelog/1976/\">1975-76</a><span class=\"sr_star\"></span></th><td class=\"center \" data-stat=\"age\">25</td><td class=\"left \" data-stat=\"team_id\"><a href=\"/teams/PHI/1976.html\">PHI</a></td><td class=\"left \" data-stat=\"lg_id\"><a href=\"/leagues/NBA_1976.html\">NBA</a></td><td class=\"center \" data-stat=\"pos\">PF</td><td class=\"right \" data-stat=\"g\">77</td><td class=\"right iz\" data-stat=\"gs\"></td><td class=\"right \" data-stat=\"mp_per_g\">38.3</td><td class=\"right \" data-stat=\"fg_per_g\">8.4</td><td class=\"right \" data-stat=\"fga_per_g\">20.2</td><td class=\"right \" data-stat=\"fg_pct\">.417</td><td class=\"right iz\" data-stat=\"fg3_per_g\"></td><td class=\"right iz\" data-stat=\"fg3a_per_g\"></td><td class=\"right iz\" data-stat=\"fg3_pct\"></td><td class=\"right \" data-stat=\"fg2_per_g\">8.4</td><td class=\"right \" data-stat=\"fg2a_per_g\">20.2</td><td class=\"right \" data-stat=\"fg2_pct\">.417</td><td class=\"right \" data-stat=\"efg_pct\">.417</td><td class=\"right \" data-stat=\"ft_per_g\">6.2</td><td class=\"right \" data-stat=\"fta_per_g\">8.3</td><td class=\"right \" data-stat=\"ft_pct\">.740</td><td class=\"right \" data-stat=\"orb_per_g\">3.4</td><td class=\"right \" data-stat=\"drb_per_g\">9.2</td><td class=\"right \" data-stat=\"trb_per_g\">12.6</td><td class=\"right \" data-stat=\"ast_per_g\">4.7</td><td class=\"right \" data-stat=\"stl_per_g\">2.6</td><td class=\"right \" data-stat=\"blk_per_g\">0.5</td><td class=\"right iz\" data-stat=\"tov_per_g\"></td><td class=\"right \" data-stat=\"pf_per_g\">4.3</td><td class=\"right \" data-stat=\"pts_per_g\">23.0</td></tr>,\n",
       " u'\\n',\n",
       " <tr class=\"full_table\" id=\"per_game.1977\"><th class=\"left \" data-stat=\"season\" scope=\"row\"><a href=\"/players/m/mcginge01/gamelog/1977/\">1976-77</a><span class=\"sr_star\"></span></th><td class=\"center \" data-stat=\"age\">26</td><td class=\"left \" data-stat=\"team_id\"><a href=\"/teams/PHI/1977.html\">PHI</a></td><td class=\"left \" data-stat=\"lg_id\"><a href=\"/leagues/NBA_1977.html\">NBA</a></td><td class=\"center \" data-stat=\"pos\">PF</td><td class=\"right \" data-stat=\"g\">79</td><td class=\"right iz\" data-stat=\"gs\"></td><td class=\"right \" data-stat=\"mp_per_g\">35.1</td><td class=\"right \" data-stat=\"fg_per_g\">8.3</td><td class=\"right \" data-stat=\"fga_per_g\">18.2</td><td class=\"right \" data-stat=\"fg_pct\">.458</td><td class=\"right iz\" data-stat=\"fg3_per_g\"></td><td class=\"right iz\" data-stat=\"fg3a_per_g\"></td><td class=\"right iz\" data-stat=\"fg3_pct\"></td><td class=\"right \" data-stat=\"fg2_per_g\">8.3</td><td class=\"right \" data-stat=\"fg2a_per_g\">18.2</td><td class=\"right \" data-stat=\"fg2_pct\">.458</td><td class=\"right \" data-stat=\"efg_pct\">.458</td><td class=\"right \" data-stat=\"ft_per_g\">4.7</td><td class=\"right \" data-stat=\"fta_per_g\">6.9</td><td class=\"right \" data-stat=\"ft_pct\">.681</td><td class=\"right \" data-stat=\"orb_per_g\">4.1</td><td class=\"right \" data-stat=\"drb_per_g\">7.4</td><td class=\"right \" data-stat=\"trb_per_g\">11.5</td><td class=\"right \" data-stat=\"ast_per_g\">3.8</td><td class=\"right \" data-stat=\"stl_per_g\">2.1</td><td class=\"right \" data-stat=\"blk_per_g\">0.5</td><td class=\"right iz\" data-stat=\"tov_per_g\"></td><td class=\"right \" data-stat=\"pf_per_g\">3.8</td><td class=\"right \" data-stat=\"pts_per_g\">21.4</td></tr>,\n",
       " u'\\n',\n",
       " <tr class=\"full_table\" id=\"per_game.1978\"><th class=\"left \" data-stat=\"season\" scope=\"row\"><a href=\"/players/m/mcginge01/gamelog/1978/\">1977-78</a></th><td class=\"center \" data-stat=\"age\">27</td><td class=\"left \" data-stat=\"team_id\"><a href=\"/teams/PHI/1978.html\">PHI</a></td><td class=\"left \" data-stat=\"lg_id\"><a href=\"/leagues/NBA_1978.html\">NBA</a></td><td class=\"center \" data-stat=\"pos\">PF</td><td class=\"right \" data-stat=\"g\">78</td><td class=\"right iz\" data-stat=\"gs\"></td><td class=\"right \" data-stat=\"mp_per_g\">32.5</td><td class=\"right \" data-stat=\"fg_per_g\">7.5</td><td class=\"right \" data-stat=\"fga_per_g\">16.3</td><td class=\"right \" data-stat=\"fg_pct\">.463</td><td class=\"right iz\" data-stat=\"fg3_per_g\"></td><td class=\"right iz\" data-stat=\"fg3a_per_g\"></td><td class=\"right iz\" data-stat=\"fg3_pct\"></td><td class=\"right \" data-stat=\"fg2_per_g\">7.5</td><td class=\"right \" data-stat=\"fg2a_per_g\">16.3</td><td class=\"right \" data-stat=\"fg2_pct\">.463</td><td class=\"right \" data-stat=\"efg_pct\">.463</td><td class=\"right \" data-stat=\"ft_per_g\">5.3</td><td class=\"right \" data-stat=\"fta_per_g\">7.4</td><td class=\"right \" data-stat=\"ft_pct\">.716</td><td class=\"right \" data-stat=\"orb_per_g\">3.6</td><td class=\"right \" data-stat=\"drb_per_g\">6.8</td><td class=\"right \" data-stat=\"trb_per_g\">10.4</td><td class=\"right \" data-stat=\"ast_per_g\">3.8</td><td class=\"right \" data-stat=\"stl_per_g\">1.8</td><td class=\"right \" data-stat=\"blk_per_g\">0.3</td><td class=\"right \" data-stat=\"tov_per_g\">4.0</td><td class=\"right \" data-stat=\"pf_per_g\">3.7</td><td class=\"right \" data-stat=\"pts_per_g\">20.3</td></tr>,\n",
       " u'\\n',\n",
       " <tr class=\"full_table\" id=\"per_game.1979\"><th class=\"left \" data-stat=\"season\" scope=\"row\"><a href=\"/players/m/mcginge01/gamelog/1979/\">1978-79</a><span class=\"sr_star\"></span></th><td class=\"center \" data-stat=\"age\">28</td><td class=\"left \" data-stat=\"team_id\"><a href=\"/teams/DEN/1979.html\">DEN</a></td><td class=\"left \" data-stat=\"lg_id\"><a href=\"/leagues/NBA_1979.html\">NBA</a></td><td class=\"center \" data-stat=\"pos\">PF</td><td class=\"right \" data-stat=\"g\">76</td><td class=\"right iz\" data-stat=\"gs\"></td><td class=\"right \" data-stat=\"mp_per_g\">33.6</td><td class=\"right \" data-stat=\"fg_per_g\">7.9</td><td class=\"right \" data-stat=\"fga_per_g\">16.8</td><td class=\"right \" data-stat=\"fg_pct\">.474</td><td class=\"right iz\" data-stat=\"fg3_per_g\"></td><td class=\"right iz\" data-stat=\"fg3a_per_g\"></td><td class=\"right iz\" data-stat=\"fg3_pct\"></td><td class=\"right \" data-stat=\"fg2_per_g\">7.9</td><td class=\"right \" data-stat=\"fg2a_per_g\">16.8</td><td class=\"right \" data-stat=\"fg2_pct\">.474</td><td class=\"right \" data-stat=\"efg_pct\">.474</td><td class=\"right \" data-stat=\"ft_per_g\">6.7</td><td class=\"right \" data-stat=\"fta_per_g\">10.1</td><td class=\"right \" data-stat=\"ft_pct\">.665</td><td class=\"right \" data-stat=\"orb_per_g\">3.4</td><td class=\"right \" data-stat=\"drb_per_g\">8.0</td><td class=\"right \" data-stat=\"trb_per_g\">11.4</td><td class=\"right \" data-stat=\"ast_per_g\">3.7</td><td class=\"right \" data-stat=\"stl_per_g\">1.7</td><td class=\"right \" data-stat=\"blk_per_g\">0.7</td><td class=\"right \" data-stat=\"tov_per_g\">4.6</td><td class=\"right \" data-stat=\"pf_per_g\">4.2</td><td class=\"right \" data-stat=\"pts_per_g\">22.6</td></tr>,\n",
       " u'\\n',\n",
       " <tr class=\"full_table\" id=\"per_game.1980\"><th class=\"left \" data-stat=\"season\" scope=\"row\"><a href=\"/players/m/mcginge01/gamelog/1980/\">1979-80</a></th><td class=\"center \" data-stat=\"age\">29</td><td class=\"left \" data-stat=\"team_id\">TOT</td><td class=\"left \" data-stat=\"lg_id\"><a href=\"/leagues/NBA_1980.html\">NBA</a></td><td class=\"center \" data-stat=\"pos\">PF</td><td class=\"right \" data-stat=\"g\">73</td><td class=\"right iz\" data-stat=\"gs\"></td><td class=\"right \" data-stat=\"mp_per_g\">30.2</td><td class=\"right \" data-stat=\"fg_per_g\">5.5</td><td class=\"right \" data-stat=\"fga_per_g\">12.1</td><td class=\"right \" data-stat=\"fg_pct\">.451</td><td class=\"right \" data-stat=\"fg3_per_g\">0.0</td><td class=\"right \" data-stat=\"fg3a_per_g\">0.2</td><td class=\"right \" data-stat=\"fg3_pct\">.133</td><td class=\"right \" data-stat=\"fg2_per_g\">5.5</td><td class=\"right \" data-stat=\"fg2a_per_g\">11.9</td><td class=\"right \" data-stat=\"fg2_pct\">.457</td><td class=\"right \" data-stat=\"efg_pct\">.453</td><td class=\"right \" data-stat=\"ft_per_g\">3.7</td><td class=\"right \" data-stat=\"fta_per_g\">6.7</td><td class=\"right \" data-stat=\"ft_pct\">.553</td><td class=\"right \" data-stat=\"orb_per_g\">3.0</td><td class=\"right \" data-stat=\"drb_per_g\">6.5</td><td class=\"right \" data-stat=\"trb_per_g\">9.6</td><td class=\"right \" data-stat=\"ast_per_g\">4.6</td><td class=\"right \" data-stat=\"stl_per_g\">1.4</td><td class=\"right \" data-stat=\"blk_per_g\">0.3</td><td class=\"right \" data-stat=\"tov_per_g\">3.8</td><td class=\"right \" data-stat=\"pf_per_g\">4.2</td><td class=\"right \" data-stat=\"pts_per_g\">14.7</td></tr>,\n",
       " u'\\n',\n",
       " <tr class=\"light_text partial_table\" id=\"per_game.1980\"><th class=\"left \" data-stat=\"season\" scope=\"row\"><a href=\"/players/m/mcginge01/gamelog/1980/\">1979-80</a></th><td class=\"center \" data-stat=\"age\">29</td><td class=\"left \" data-stat=\"team_id\"><a href=\"/teams/DEN/1980.html\">DEN</a></td><td class=\"left \" data-stat=\"lg_id\"><a href=\"/leagues/NBA_1980.html\">NBA</a></td><td class=\"center \" data-stat=\"pos\">PF</td><td class=\"right \" data-stat=\"g\">45</td><td class=\"right iz\" data-stat=\"gs\"></td><td class=\"right \" data-stat=\"mp_per_g\">31.6</td><td class=\"right \" data-stat=\"fg_per_g\">6.0</td><td class=\"right \" data-stat=\"fga_per_g\">13.0</td><td class=\"right \" data-stat=\"fg_pct\">.459</td><td class=\"right \" data-stat=\"fg3_per_g\">0.0</td><td class=\"right \" data-stat=\"fg3a_per_g\">0.2</td><td class=\"right \" data-stat=\"fg3_pct\">.143</td><td class=\"right \" data-stat=\"fg2_per_g\">5.9</td><td class=\"right \" data-stat=\"fg2a_per_g\">12.8</td><td class=\"right \" data-stat=\"fg2_pct\">.463</td><td class=\"right \" data-stat=\"efg_pct\">.460</td><td class=\"right \" data-stat=\"ft_per_g\">3.7</td><td class=\"right \" data-stat=\"fta_per_g\">6.8</td><td class=\"right \" data-stat=\"ft_pct\">.541</td><td class=\"right \" data-stat=\"orb_per_g\">3.0</td><td class=\"right \" data-stat=\"drb_per_g\">7.3</td><td class=\"right \" data-stat=\"trb_per_g\">10.3</td><td class=\"right \" data-stat=\"ast_per_g\">4.9</td><td class=\"right \" data-stat=\"stl_per_g\">1.5</td><td class=\"right \" data-stat=\"blk_per_g\">0.4</td><td class=\"right \" data-stat=\"tov_per_g\">4.2</td><td class=\"right \" data-stat=\"pf_per_g\">4.2</td><td class=\"right \" data-stat=\"pts_per_g\">15.6</td></tr>,\n",
       " u'\\n',\n",
       " <tr class=\"light_text partial_table\" id=\"per_game.1980\"><th class=\"left \" data-stat=\"season\" scope=\"row\"><a href=\"/players/m/mcginge01/gamelog/1980/\">1979-80</a></th><td class=\"center \" data-stat=\"age\">29</td><td class=\"left \" data-stat=\"team_id\"><a href=\"/teams/IND/1980.html\">IND</a></td><td class=\"left \" data-stat=\"lg_id\"><a href=\"/leagues/NBA_1980.html\">NBA</a></td><td class=\"center \" data-stat=\"pos\">PF</td><td class=\"right \" data-stat=\"g\">28</td><td class=\"right iz\" data-stat=\"gs\"></td><td class=\"right \" data-stat=\"mp_per_g\">28.0</td><td class=\"right \" data-stat=\"fg_per_g\">4.7</td><td class=\"right \" data-stat=\"fga_per_g\">10.8</td><td class=\"right \" data-stat=\"fg_pct\">.437</td><td class=\"right \" data-stat=\"fg3_per_g\">0.0</td><td class=\"right \" data-stat=\"fg3a_per_g\">0.3</td><td class=\"right \" data-stat=\"fg3_pct\">.125</td><td class=\"right \" data-stat=\"fg2_per_g\">4.7</td><td class=\"right \" data-stat=\"fg2a_per_g\">10.5</td><td class=\"right \" data-stat=\"fg2_pct\">.446</td><td class=\"right \" data-stat=\"efg_pct\">.439</td><td class=\"right \" data-stat=\"ft_per_g\">3.7</td><td class=\"right \" data-stat=\"fta_per_g\">6.5</td><td class=\"right \" data-stat=\"ft_pct\">.575</td><td class=\"right \" data-stat=\"orb_per_g\">3.1</td><td class=\"right \" data-stat=\"drb_per_g\">5.3</td><td class=\"right \" data-stat=\"trb_per_g\">8.5</td><td class=\"right \" data-stat=\"ast_per_g\">4.0</td><td class=\"right \" data-stat=\"stl_per_g\">1.1</td><td class=\"right \" data-stat=\"blk_per_g\">0.2</td><td class=\"right \" data-stat=\"tov_per_g\">3.3</td><td class=\"right \" data-stat=\"pf_per_g\">4.1</td><td class=\"right \" data-stat=\"pts_per_g\">13.2</td></tr>,\n",
       " u'\\n',\n",
       " <tr class=\"full_table\" id=\"per_game.1981\"><th class=\"left \" data-stat=\"season\" scope=\"row\"><a href=\"/players/m/mcginge01/gamelog/1981/\">1980-81</a></th><td class=\"center \" data-stat=\"age\">30</td><td class=\"left \" data-stat=\"team_id\"><a href=\"/teams/IND/1981.html\">IND</a></td><td class=\"left \" data-stat=\"lg_id\"><a href=\"/leagues/NBA_1981.html\">NBA</a></td><td class=\"center \" data-stat=\"pos\">PF</td><td class=\"right \" data-stat=\"g\">69</td><td class=\"right iz\" data-stat=\"gs\"></td><td class=\"right \" data-stat=\"mp_per_g\">26.7</td><td class=\"right \" data-stat=\"fg_per_g\">5.0</td><td class=\"right \" data-stat=\"fga_per_g\">11.1</td><td class=\"right \" data-stat=\"fg_pct\">.453</td><td class=\"right \" data-stat=\"fg3_per_g\">0.0</td><td class=\"right \" data-stat=\"fg3a_per_g\">0.1</td><td class=\"right \" data-stat=\"fg3_pct\">.000</td><td class=\"right \" data-stat=\"fg2_per_g\">5.0</td><td class=\"right \" data-stat=\"fg2a_per_g\">11.0</td><td class=\"right \" data-stat=\"fg2_pct\">.457</td><td class=\"right \" data-stat=\"efg_pct\">.453</td><td class=\"right \" data-stat=\"ft_per_g\">3.0</td><td class=\"right \" data-stat=\"fta_per_g\">5.6</td><td class=\"right \" data-stat=\"ft_pct\">.538</td><td class=\"right \" data-stat=\"orb_per_g\">2.4</td><td class=\"right \" data-stat=\"drb_per_g\">5.3</td><td class=\"right \" data-stat=\"trb_per_g\">7.7</td><td class=\"right \" data-stat=\"ast_per_g\">3.0</td><td class=\"right \" data-stat=\"stl_per_g\">1.4</td><td class=\"right \" data-stat=\"blk_per_g\">0.4</td><td class=\"right \" data-stat=\"tov_per_g\">3.2</td><td class=\"right \" data-stat=\"pf_per_g\">3.5</td><td class=\"right \" data-stat=\"pts_per_g\">13.1</td></tr>,\n",
       " u'\\n',\n",
       " <tr class=\"full_table\" id=\"per_game.1982\"><th class=\"left \" data-stat=\"season\" scope=\"row\"><a href=\"/players/m/mcginge01/gamelog/1982/\">1981-82</a></th><td class=\"center \" data-stat=\"age\">31</td><td class=\"left \" data-stat=\"team_id\"><a href=\"/teams/IND/1982.html\">IND</a></td><td class=\"left \" data-stat=\"lg_id\"><a href=\"/leagues/NBA_1982.html\">NBA</a></td><td class=\"center \" data-stat=\"pos\">PF</td><td class=\"right \" data-stat=\"g\">76</td><td class=\"right \" data-stat=\"gs\">4</td><td class=\"right \" data-stat=\"mp_per_g\">17.6</td><td class=\"right \" data-stat=\"fg_per_g\">1.9</td><td class=\"right \" data-stat=\"fga_per_g\">5.0</td><td class=\"right \" data-stat=\"fg_pct\">.373</td><td class=\"right \" data-stat=\"fg3_per_g\">0.0</td><td class=\"right \" data-stat=\"fg3a_per_g\">0.0</td><td class=\"right \" data-stat=\"fg3_pct\">.000</td><td class=\"right \" data-stat=\"fg2_per_g\">1.9</td><td class=\"right \" data-stat=\"fg2a_per_g\">4.9</td><td class=\"right \" data-stat=\"fg2_pct\">.376</td><td class=\"right \" data-stat=\"efg_pct\">.373</td><td class=\"right \" data-stat=\"ft_per_g\">0.9</td><td class=\"right \" data-stat=\"fta_per_g\">2.1</td><td class=\"right \" data-stat=\"ft_pct\">.453</td><td class=\"right \" data-stat=\"orb_per_g\">1.2</td><td class=\"right \" data-stat=\"drb_per_g\">4.0</td><td class=\"right \" data-stat=\"trb_per_g\">5.2</td><td class=\"right \" data-stat=\"ast_per_g\">2.7</td><td class=\"right \" data-stat=\"stl_per_g\">1.3</td><td class=\"right \" data-stat=\"blk_per_g\">0.4</td><td class=\"right \" data-stat=\"tov_per_g\">1.7</td><td class=\"right \" data-stat=\"pf_per_g\">2.6</td><td class=\"right \" data-stat=\"pts_per_g\">4.7</td></tr>,\n",
       " u'\\n']"
      ]
     },
     "execution_count": 91,
     "metadata": {},
     "output_type": "execute_result"
    }
   ],
   "source": [
    "soup.body.div.contents[13].contents[3].contents[3].contents[1].contents[1].contents[6].contents\n",
    "#3,3,1,1,6"
   ]
  },
  {
   "cell_type": "code",
   "execution_count": 92,
   "metadata": {
    "collapsed": false
   },
   "outputs": [
    {
     "name": "stdout",
     "output_type": "stream",
     "text": [
      "season 1\n",
      "age 1\n",
      "team_id 1\n",
      "lg_id 1\n",
      "pos 1\n",
      "g 1\n",
      "gs 0\n",
      "mp_per_g 1\n",
      "fg_per_g 1\n",
      "fga_per_g 1\n",
      "fg_pct 1\n",
      "fg3_per_g 1\n",
      "fg3a_per_g 1\n",
      "fg3_pct 1\n",
      "fg2_per_g 1\n",
      "fg2a_per_g 1\n",
      "fg2_pct 1\n",
      "efg_pct 1\n",
      "ft_per_g 1\n",
      "fta_per_g 1\n",
      "ft_pct 1\n",
      "orb_per_g 1\n",
      "drb_per_g 1\n",
      "trb_per_g 1\n",
      "ast_per_g 1\n",
      "stl_per_g 0\n",
      "blk_per_g 0\n",
      "tov_per_g 1\n",
      "pf_per_g 1\n",
      "pts_per_g 1\n"
     ]
    }
   ],
   "source": [
    "for c in soup.body.div.contents[13].contents[3].contents[3].contents[1].contents[1].contents[6].contents[1].contents:\n",
    "    print c['data-stat'],len(c.contents)"
   ]
  },
  {
   "cell_type": "code",
   "execution_count": 194,
   "metadata": {
    "collapsed": false
   },
   "outputs": [
    {
     "name": "stdout",
     "output_type": "stream",
     "text": [
      "<class 'bs4.element.NavigableString'> 0\n",
      "<class 'bs4.element.Tag'> 1\n",
      "<class 'bs4.element.NavigableString'> 2\n",
      "<class 'bs4.element.Tag'> 3\n",
      "<class 'bs4.element.NavigableString'> 4\n",
      "<class 'bs4.element.Tag'> 5\n",
      "<class 'bs4.element.NavigableString'> 6\n",
      "<class 'bs4.element.Tag'> 7\n",
      "<class 'bs4.element.NavigableString'> 8\n",
      "<class 'bs4.element.Tag'> 9\n",
      "<class 'bs4.element.NavigableString'> 10\n",
      "<class 'bs4.element.Tag'> 11\n",
      "<class 'bs4.element.NavigableString'> 12\n",
      "<class 'bs4.element.Tag'> 13\n",
      "<class 'bs4.element.NavigableString'> 14\n",
      "<class 'bs4.element.Tag'> 15\n",
      "<class 'bs4.element.NavigableString'> 16\n",
      "<class 'bs4.element.Tag'> 17\n",
      "<class 'bs4.element.NavigableString'> 18\n",
      "<class 'bs4.element.Tag'> 19\n",
      "<class 'bs4.element.NavigableString'> 20\n",
      "<class 'bs4.element.Tag'> 21\n",
      "<class 'bs4.element.NavigableString'> 22\n",
      "<class 'bs4.element.Tag'> 23\n",
      "<class 'bs4.element.NavigableString'> 24\n",
      "<class 'bs4.element.Tag'> 25\n",
      "<class 'bs4.element.NavigableString'> 26\n",
      "<class 'bs4.element.Tag'> 27\n",
      "<class 'bs4.element.NavigableString'> 28\n"
     ]
    }
   ],
   "source": [
    "for n,i in enumerate(soup.body.div.contents[13].contents[3].contents[3].contents[1].contents[1].contents[6].contents):\n",
    "    print type(i),n"
   ]
  }
 ],
 "metadata": {
  "kernelspec": {
   "display_name": "Python 2",
   "language": "python",
   "name": "python2"
  },
  "language_info": {
   "codemirror_mode": {
    "name": "ipython",
    "version": 2
   },
   "file_extension": ".py",
   "mimetype": "text/x-python",
   "name": "python",
   "nbconvert_exporter": "python",
   "pygments_lexer": "ipython2",
   "version": "2.7.13"
  }
 },
 "nbformat": 4,
 "nbformat_minor": 2
}
