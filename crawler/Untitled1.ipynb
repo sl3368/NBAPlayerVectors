{
 "cells": [
  {
   "cell_type": "code",
   "execution_count": 2,
   "metadata": {
    "collapsed": true
   },
   "outputs": [],
   "source": [
    "%matplotlib inline\n",
    "import matplotlib.pyplot as plt\n",
    "import pandas as pd\n",
    "import numpy as np\n",
    "import time\n",
    "import os\n",
    "import cPickle"
   ]
  },
  {
   "cell_type": "code",
   "execution_count": 4,
   "metadata": {
    "collapsed": false
   },
   "outputs": [],
   "source": [
    "with open(\"BRData/Aaron_Gordon\",\"rb\") as f:\n",
    "    data = cPickle.load(f)"
   ]
  },
  {
   "cell_type": "code",
   "execution_count": 6,
   "metadata": {
    "collapsed": false
   },
   "outputs": [
    {
     "data": {
      "text/plain": [
       "['all_per_poss', 'all_per_minute', 'all_per_game']"
      ]
     },
     "execution_count": 6,
     "metadata": {},
     "output_type": "execute_result"
    }
   ],
   "source": [
    "data.keys()"
   ]
  },
  {
   "cell_type": "code",
   "execution_count": 11,
   "metadata": {
    "collapsed": false
   },
   "outputs": [
    {
     "data": {
      "text/plain": [
       "Index([u'age', u'ast_per_g', u'blk_per_g', u'drb_per_g', u'efg_pct',\n",
       "       u'fg2_pct', u'fg2_per_g', u'fg2a_per_g', u'fg3_pct', u'fg3_per_g',\n",
       "       u'fg3a_per_g', u'fg_pct', u'fg_per_g', u'fga_per_g', u'ft_pct',\n",
       "       u'ft_per_g', u'fta_per_g', u'g', u'gs', u'lg_id', u'mp_per_g',\n",
       "       u'orb_per_g', u'pf_per_g', u'pos', u'pts_per_g', u'season',\n",
       "       u'stl_per_g', u'team_id', u'tov_per_g', u'trb_per_g'],\n",
       "      dtype='object')"
      ]
     },
     "execution_count": 11,
     "metadata": {},
     "output_type": "execute_result"
    }
   ],
   "source": [
    "pd.DataFrame(data['all_per_game']).columns"
   ]
  },
  {
   "cell_type": "code",
   "execution_count": null,
   "metadata": {
    "collapsed": true
   },
   "outputs": [],
   "source": []
  }
 ],
 "metadata": {
  "kernelspec": {
   "display_name": "Python 2",
   "language": "python",
   "name": "python2"
  },
  "language_info": {
   "codemirror_mode": {
    "name": "ipython",
    "version": 2
   },
   "file_extension": ".py",
   "mimetype": "text/x-python",
   "name": "python",
   "nbconvert_exporter": "python",
   "pygments_lexer": "ipython2",
   "version": "2.7.13"
  }
 },
 "nbformat": 4,
 "nbformat_minor": 2
}
